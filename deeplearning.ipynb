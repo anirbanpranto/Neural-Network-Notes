{
  "nbformat": 4,
  "nbformat_minor": 0,
  "metadata": {
    "colab": {
      "name": "deeplearning.ipynb",
      "provenance": [],
      "collapsed_sections": [],
      "authorship_tag": "ABX9TyPZ1LZUwiu2HJx/eHwtYoxq",
      "include_colab_link": true
    },
    "kernelspec": {
      "name": "python3",
      "display_name": "Python 3"
    },
    "language_info": {
      "name": "python"
    }
  },
  "cells": [
    {
      "cell_type": "markdown",
      "metadata": {
        "id": "view-in-github",
        "colab_type": "text"
      },
      "source": [
        "<a href=\"https://colab.research.google.com/github/anirbanpranto/Deep-Learning-Notes/blob/main/deeplearning.ipynb\" target=\"_parent\"><img src=\"https://colab.research.google.com/assets/colab-badge.svg\" alt=\"Open In Colab\"/></a>"
      ]
    },
    {
      "cell_type": "code",
      "metadata": {
        "id": "0_GQSuijqSuo"
      },
      "source": [
        "'''\n",
        "Anirban Bala Pranto\n",
        "BCS (Hons.) Data Science\n",
        "Multimedia University, Malaysia\n",
        "'''\n",
        "\n",
        "import numpy as np\n",
        "import pandas as pd\n",
        "import tensorflow as tf"
      ],
      "execution_count": 17,
      "outputs": []
    },
    {
      "cell_type": "markdown",
      "metadata": {
        "id": "yn4pnevLFMLC"
      },
      "source": [
        "# Perceptron\n",
        "Imagine we have inputs $X$ and weights $W$ and a bias $b$ then output of a perceptron is $\\hat{y} = g(b + X^T W)$ Here, $X^T W$ is the dot product of $X$ and $W$ and $g$ is a nonlinear function (ex - Sigmoid, Tanh, ReLU)"
      ]
    },
    {
      "cell_type": "code",
      "metadata": {
        "id": "xurEG63KrIQ_"
      },
      "source": [
        "#this is a multioutput perceptron\n",
        "class RandomDenseLayer(tf.keras.layers.Layer):\n",
        "  def __init__(self, input_dim, output_dim):\n",
        "    super(MyDenseLayer, self).__init__()\n",
        "\n",
        "    #initialize weights and biases\n",
        "    self.W = self.add_weight([input_dim, output_dim])\n",
        "    self.b = self.add_weight([1, output_dim])\n",
        "\n",
        "  def call(self, inputs):\n",
        "\n",
        "    z = tf.matmul(inputs, self.W) + self.b #forward propagagtion\n",
        "    output = tf.math.sigmoid(z)\n",
        "    return output"
      ],
      "execution_count": 16,
      "outputs": []
    },
    {
      "cell_type": "code",
      "metadata": {
        "id": "s8ooDkLWGgpp"
      },
      "source": [
        "# Easier way of doing this in TF\n",
        "layer = tf.keras.layers.Dense(units=2)"
      ],
      "execution_count": null,
      "outputs": []
    },
    {
      "cell_type": "markdown",
      "metadata": {
        "id": "3F9HR_5VVO68"
      },
      "source": [
        "# Linear Algebra\n",
        "* Dot Product : $$X\\cdot W = X^T W = \\sum_{i=1}^{n} X_i \\cdot W_i$$"
      ]
    },
    {
      "cell_type": "markdown",
      "metadata": {
        "id": "uMdisfBHVrFr"
      },
      "source": [
        "# Calculus\n",
        "\n",
        "$z = f(x,y) = 2x^2 + xy + y^3, \\frac{\\partial z}{\\partial x} = 4x + y$, this is called partial derivative of the function $z$ with respect to $x$, here we treat $y$ as a constant, and $\\frac{\\partial z}{\\partial y} = 3y^2 + y$, this is called partial derivative of the function $z$ with respect to $y$, here we treat $x$ as a constant,"
      ]
    },
    {
      "cell_type": "markdown",
      "metadata": {
        "id": "AEJNve_1fdYX"
      },
      "source": [
        "# Multi Output Perceptron\n",
        "$$z_i = W_{0,i} + \\sum_{j=1}^{m} X_j W_{j,i}$$\n",
        "or\n",
        "$$z_i = b_i + \\sum_{j=1}^{m} X_j W_{j,i}$$\n",
        "\n",
        "Here $z$ is the activation value for we get $n$ outputs and we have $m$ inputs which are denoted by $x$. We also have $n$ biases.\n",
        "\n",
        "For each of the $z_i$ we find the dot product of $ith$ set of weights with $m$ inputs.\n",
        "\n",
        "In this example we have 4 inputs with two outputs.\n",
        "\n",
        "![Web capture_10-6-2021_02332_alexlenail.me.jpeg](data:image/jpeg;base64,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)\n",
        "\n",
        "So we have, $$x = [x_1, x_2, x_3, x_4]$$\n",
        "$$w = [[w_{1,1}, w_{1,2}], [w_{2,1}, w_{2,2}],[w_{3,1}, w_{3,2}], [w_{4,1}, w_{4,2}]]$$\n",
        "$$b = [b_1, b_2, b_3, b_4]$$\n",
        "So, for first perceptron we have,\n",
        "$$z_1 = b_1 + (x_1 w_{1,1} + x_2 w_{2,1} + x_3 w_{3,1} + x_4 w_{4,1})$$"
      ]
    },
    {
      "cell_type": "code",
      "metadata": {
        "colab": {
          "base_uri": "https://localhost:8080/"
        },
        "id": "VsDQCgdKqx1U",
        "outputId": "1acdca4e-a730-4a98-ff92-862e28228518"
      },
      "source": [
        "x = [2, 3, 4, 5]\n",
        "w = [[1,6], [2,7], [3,8], [4,10]]\n",
        "\n",
        "#numpy vectors\n",
        "w1 = np.array([1, 2, 3, 4])\n",
        "x_v = np.array([2, 3, 4, 5])\n",
        "\n",
        "#sum formula\n",
        "sum = 0\n",
        "for j in range(4):\n",
        "    sum += x[j]*w[j][0]\n",
        "\n",
        "#dot product\n",
        "dot = x_v.dot(w1)\n",
        "\n",
        "print(\"sum : \", sum, \"dot product : \", dot)"
      ],
      "execution_count": 11,
      "outputs": [
        {
          "output_type": "stream",
          "text": [
            "sum :  40 dot product :  40\n"
          ],
          "name": "stdout"
        }
      ]
    },
    {
      "cell_type": "code",
      "metadata": {
        "id": "-8cQ8l_ewTt5"
      },
      "source": [
        "##NN with 1 hidden layer with n neurons, 2 output neurons\n",
        "n = 4\n",
        "\n",
        "model = tf.keras.Sequential([\n",
        "  tf.keras.layers.Dense(n),\n",
        "  tf.keras.layers.Dense(2)\n",
        "])"
      ],
      "execution_count": 14,
      "outputs": []
    }
  ]
}